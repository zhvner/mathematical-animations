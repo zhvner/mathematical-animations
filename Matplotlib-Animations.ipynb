{
 "cells": [
  {
   "cell_type": "code",
   "execution_count": 9,
   "id": "initial_id",
   "metadata": {
    "collapsed": true,
    "ExecuteTime": {
     "end_time": "2023-12-18T20:00:51.643746Z",
     "start_time": "2023-12-18T20:00:51.637315Z"
    }
   },
   "outputs": [],
   "source": [
    "import matplotlib.pyplot as plt\n",
    "import numpy as np\n",
    "from matplotlib.animation import FuncAnimation\n",
    "import matplotlib\n",
    "from tqdm.notebook import tqdm\n",
    "import cmasher\n",
    "from scipy.interpolate import interp1d\n",
    "import seaborn as sns"
   ]
  },
  {
   "cell_type": "code",
   "execution_count": 10,
   "outputs": [],
   "source": [
    "# Some utility functions\n",
    "def make_segments(x,y):\n",
    "    ''' Make segments for LineCollection'''\n",
    "    points = np.array([x, y]).T.reshape(-1, 1, 2)\n",
    "    return np.concatenate([points[:-1], points[1:]], axis=1)\n",
    "\n",
    "def setup_time_axes():\n",
    "    '''\n",
    "        Setup a black Figure and Axes\n",
    "    '''\n",
    "    fig, ax = plt.subplots(1,1,figsize=(20,4),dpi=300)\n",
    "    fig.set_facecolor(\"black\")\n",
    "    ax.set_facecolor(\"black\")\n",
    "    ax.set_xlim(t_start-0.1, t_end+0.1)\n",
    "    ax.set_ylim(-1.1, 1.1)\n",
    "    ax.grid(color='white', linewidth=0.4, alpha=0.3, zorder=0)\n",
    "    return fig, ax\n",
    "\n",
    "def plot_LineCollection_on_axis(ax,x,y,colors=\"white\", alphas=1, **kwargs):\n",
    "    '''\n",
    "        Plot a LineCollection on a specified axis.\n",
    "        \n",
    "        ax - Axes object\n",
    "        x - array of x points\n",
    "        y - array of y points\n",
    "        colors - array of colors for each point\n",
    "        alphas - array of opacity for each point\n",
    "    '''\n",
    "    lc = matplotlib.collections.LineCollection(make_segments(x, y),**kwargs)\n",
    "    lc.set_colors(colors)\n",
    "    lc.set_alpha(alphas)\n",
    "    lc.set_capstyle(\"round\")\n",
    "    ax.add_collection(lc)\n",
    "    return lc\n"
   ],
   "metadata": {
    "collapsed": false,
    "ExecuteTime": {
     "end_time": "2023-12-18T20:00:52.449617Z",
     "start_time": "2023-12-18T20:00:52.445627Z"
    }
   },
   "id": "f10395fa41960c34"
  },
  {
   "cell_type": "code",
   "execution_count": 11,
   "outputs": [],
   "source": [
    "def animate_line_collections(line_collections, fig, fills=None, only_fills=False,frame_downsampling=1):\n",
    "    '''\n",
    "        Creates an animation of multiple LineCollections being drawn\n",
    "        \n",
    "        Optionally can animate fills under the lines in sync\n",
    "    '''\n",
    "    x_datas = []\n",
    "    y_datas = []\n",
    "       \n",
    "    for lc in line_collections:\n",
    "        segments = lc.get_segments()\n",
    "        x_datas.append(np.array([seg[0,0] for seg in segments]))\n",
    "        y_datas.append(np.array([seg[0,1] for seg in segments]))\n",
    "    \n",
    "    def anim_func(playhead_t):\n",
    "        for k,lc in enumerate(line_collections):\n",
    "            lc.set_alpha(x_datas[k]<=playhead_t)\n",
    "           \n",
    "        if fills is None:\n",
    "            return line_collections,\n",
    "        \n",
    "        mask =  x_datas[0]>=playhead_t\n",
    "        x_masked=np.ma.masked_where(mask,x_datas[0])\n",
    "        ax.collections.clear()\n",
    "        \n",
    "        for k,fill in enumerate(fills):\n",
    "            \n",
    "            y_masked=np.ma.masked_where(mask,y_datas[k])\n",
    "            fills[k] = ax.fill_between(x_masked,0,y_masked,color=fill.get_facecolor(),alpha=fill.get_alpha())\n",
    "            \n",
    "        if not only_fills:\n",
    "            ax.add_collection(lc)   \n",
    "        return line_collections,fills\n",
    "    \n",
    "    return matplotlib.animation.FuncAnimation(fig, anim_func,frames=tqdm(x_datas[0][::frame_downsampling]),interval=30)"
   ],
   "metadata": {
    "collapsed": false,
    "ExecuteTime": {
     "end_time": "2023-12-18T20:00:52.851513Z",
     "start_time": "2023-12-18T20:00:52.847487Z"
    }
   },
   "id": "4dd848755e26d5cc"
  },
  {
   "cell_type": "markdown",
   "source": [
    "# Generating data"
   ],
   "metadata": {
    "collapsed": false
   },
   "id": "1e8916a2fade956c"
  },
  {
   "cell_type": "code",
   "execution_count": 12,
   "outputs": [],
   "source": [
    "def get_wave_with_variable_frequency(time, freq_array):\n",
    "    ''' Returns a array sin(f(t) * t) '''\n",
    "    dt = np.full_like(time, time[1]-time[0] )  \n",
    "    phases = (freq_array * 2*np.pi * dt ).cumsum()   \n",
    "    return np.sin(phases), ((phases + np.pi) % (2 * np.pi) - np.pi)\n",
    "\n",
    "phase_cmap = sns.color_palette(\"hls\",as_cmap=True) # Periodic colormap to turn phase (angles) into colors\n",
    "\n",
    "def angle2color(angle):\n",
    "    return phase_cmap((angle%(2*np.pi))/(2*np.pi))"
   ],
   "metadata": {
    "collapsed": false,
    "ExecuteTime": {
     "end_time": "2023-12-18T20:00:53.573567Z",
     "start_time": "2023-12-18T20:00:53.568674Z"
    }
   },
   "id": "3aa5b994e776d9e1"
  },
  {
   "cell_type": "code",
   "execution_count": 13,
   "outputs": [],
   "source": [
    "N_points = 5000\n",
    "t_start = 0\n",
    "t_end = 5\n",
    "\n",
    "\n",
    "\n",
    "time = np.linspace(t_start,t_end, N_points) # Array of time points\n",
    "\n",
    "# Generating a random frequency modulation pattern\n",
    "generator = np.random.default_rng(seed=322)\n",
    "x_samples = np.linspace(t_start, t_end, 10)\n",
    "freq_samples = generator.random(x_samples.shape) * 6\n",
    "interpolation = interp1d(x_samples, freq_samples, kind='quadratic')\n",
    "\n",
    "freq = interpolation(time) # Array of frequencies (instantaneous rotation velocities)\n",
    "\n",
    "wave, phase = get_wave_with_variable_frequency(time, freq) # Arrays containing the points of sinusoid and their phases"
   ],
   "metadata": {
    "collapsed": false,
    "ExecuteTime": {
     "end_time": "2023-12-18T20:00:53.911101Z",
     "start_time": "2023-12-18T20:00:53.908090Z"
    }
   },
   "id": "152fae59d7ed0c4d"
  },
  {
   "cell_type": "code",
   "execution_count": 14,
   "outputs": [],
   "source": [
    "FRAME_DOWNSAMPLING = 1  # This is so that all animations have an equal number of frames"
   ],
   "metadata": {
    "collapsed": false,
    "ExecuteTime": {
     "end_time": "2023-12-18T20:00:54.262249Z",
     "start_time": "2023-12-18T20:00:54.259493Z"
    }
   },
   "id": "2fecbc5dea6be692"
  },
  {
   "cell_type": "code",
   "execution_count": null,
   "outputs": [
    {
     "data": {
      "text/plain": "  0%|          | 0/4999 [00:00<?, ?it/s]",
      "application/vnd.jupyter.widget-view+json": {
       "version_major": 2,
       "version_minor": 0,
       "model_id": "80fe1a283d75464ca69911612782d52c"
      }
     },
     "metadata": {},
     "output_type": "display_data"
    },
    {
     "name": "stderr",
     "output_type": "stream",
     "text": [
      "MovieWriter ffmpeg unavailable; using Pillow instead.\n"
     ]
    }
   ],
   "source": [
    "fig, ax = setup_time_axes()\n",
    "\n",
    "lc = plot_LineCollection_on_axis(ax, time, wave, angle2color(phase[:-1]), linewidths=6,)\n",
    "\n",
    "anim = animate_line_collections([lc],fig, frame_downsampling=FRAME_DOWNSAMPLING)\n",
    "anim.save(\"renders/1) Drawing a phase-colored wave.mp4\")"
   ],
   "metadata": {
    "collapsed": false,
    "is_executing": true,
    "ExecuteTime": {
     "start_time": "2023-12-18T20:00:54.763862Z"
    }
   },
   "id": "b6170ec6eaa077c"
  },
  {
   "cell_type": "code",
   "execution_count": null,
   "outputs": [],
   "source": [],
   "metadata": {
    "collapsed": false
   },
   "id": "bcbe987b0c771c04"
  }
 ],
 "metadata": {
  "kernelspec": {
   "display_name": "Python 3",
   "language": "python",
   "name": "python3"
  },
  "language_info": {
   "codemirror_mode": {
    "name": "ipython",
    "version": 2
   },
   "file_extension": ".py",
   "mimetype": "text/x-python",
   "name": "python",
   "nbconvert_exporter": "python",
   "pygments_lexer": "ipython2",
   "version": "2.7.6"
  }
 },
 "nbformat": 4,
 "nbformat_minor": 5
}
